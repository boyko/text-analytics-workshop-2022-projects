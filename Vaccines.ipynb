{
 "cells": [
  {
   "cell_type": "markdown",
   "source": [
    "# Sentiment Analysis of COVID-19 Vaccine Tweets\n",
    "\n",
    "The dataset `vaccination_tweets` contains 16172 tweets (column `text`) that were classified\n",
    "according to the sentiments towards vaccines: positive, neutral and negative (column `sentiment`). Develop a classifier to predict if the sentiment of the tweet is positive or negative."
   ],
   "metadata": {
    "collapsed": false
   }
  },
  {
   "cell_type": "code",
   "execution_count": 1,
   "metadata": {
    "collapsed": true
   },
   "outputs": [
    {
     "name": "stdout",
     "output_type": "stream",
     "text": [
      "<class 'pandas.core.frame.DataFrame'>\n",
      "RangeIndex: 16172 entries, 0 to 16171\n",
      "Data columns (total 5 columns):\n",
      " #   Column      Non-Null Count  Dtype  \n",
      "---  ------      --------------  -----  \n",
      " 0   text        16172 non-null  object \n",
      " 1   date        16170 non-null  object \n",
      " 2   retweets    16170 non-null  float64\n",
      " 3   is_retweet  16170 non-null  object \n",
      " 4   sentiment   16170 non-null  object \n",
      "dtypes: float64(1), object(4)\n",
      "memory usage: 631.8+ KB\n"
     ]
    }
   ],
   "source": [
    "import os\n",
    "import pandas as pd\n",
    "\n",
    "df = pd.read_csv(os.path.join(\"data\", \"vaccination_tweets.csv\"))\n",
    "\n",
    "df.info()"
   ]
  }
 ],
 "metadata": {
  "kernelspec": {
   "display_name": "Python 3",
   "language": "python",
   "name": "python3"
  },
  "language_info": {
   "codemirror_mode": {
    "name": "ipython",
    "version": 2
   },
   "file_extension": ".py",
   "mimetype": "text/x-python",
   "name": "python",
   "nbconvert_exporter": "python",
   "pygments_lexer": "ipython2",
   "version": "2.7.6"
  }
 },
 "nbformat": 4,
 "nbformat_minor": 0
}
